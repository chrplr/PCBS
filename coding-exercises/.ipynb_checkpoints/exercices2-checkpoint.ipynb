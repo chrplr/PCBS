{
 "cells": [
  {
   "cell_type": "markdown",
   "metadata": {},
   "source": [
    "Exercices 2\n",
    "=========="
   ]
  },
  {
   "cell_type": "markdown",
   "metadata": {},
   "source": [
    "Given a list of numbers, print the largest one."
   ]
  },
  {
   "cell_type": "code",
   "execution_count": null,
   "metadata": {},
   "outputs": [],
   "source": [
    "def maximum(liste):\n",
    "    maxi = -float('Inf')  # or numpy.inf\n",
    "    for n in liste:\n",
    "        if n > maxi:\n",
    "            maxi = n\n",
    "    return maxi\n",
    "\n",
    "print(maximum([1, -6, 78, 34, 22]))"
   ]
  },
  {
   "cell_type": "markdown",
   "metadata": {},
   "source": [
    " Given a list of numbers, print them separated by a space (e.g. `[1, 2, 4]` -> `1 2 3`).\n"
   ]
  },
  {
   "cell_type": "code",
   "execution_count": null,
   "metadata": {},
   "outputs": [],
   "source": [
    "l = [1, 2, 4]\n",
    "\n",
    "print(\" \".join([str(n) for n in l]))\n",
    "# or\n",
    "for n in l:\n",
    "    print(n, end=' ')\n"
   ]
  },
  {
   "cell_type": "markdown",
   "metadata": {},
   "source": [
    "Given a list of words, print how many different words are in that list (hint: use a dictionary or a set)"
   ]
  },
  {
   "cell_type": "code",
   "execution_count": null,
   "metadata": {},
   "outputs": [],
   "source": [
    "l = ['Alan', 'Joe', 'Alan', 'Jim']\n",
    "\n",
    "print(len(set(l)))  # shortest solution, using a set\n",
    "# or\n",
    "n = 0\n",
    "d = {}\n",
    "for e in l:\n",
    "    if not e in d.keys():\n",
    "        d[e] = 1\n",
    "        n = n + 1\n",
    "print(n)"
   ]
  },
  {
   "cell_type": "markdown",
   "metadata": {},
   "source": [
    "Given a list of words, count the number of times each word appears in the list. Eg. `[Jim, Alan, Jim, Joe]` -> `Jim:2, Alan:1, Joe:1`  (hint: use a dictionary)"
   ]
  },
  {
   "cell_type": "code",
   "execution_count": null,
   "metadata": {},
   "outputs": [],
   "source": [
    "d = {}\n",
    "for e in l:\n",
    "    if not e in d.keys():\n",
    "        d[e] = 1\n",
    "    else:\n",
    "        d[e] += 1\n",
    "print(d)"
   ]
  },
  {
   "cell_type": "markdown",
   "metadata": {},
   "source": [
    "Write a script that prints the first 10 lines of a file (or the whole file is it is less than 10 lines long)."
   ]
  },
  {
   "cell_type": "code",
   "execution_count": null,
   "metadata": {},
   "outputs": [],
   "source": [
    "f = open('aga.txt', 'r', encoding='utf-8')\n",
    "for l in f.readlines()[:10]:\n",
    "    print(l, end='')\n",
    "f.close()"
   ]
  },
  {
   "cell_type": "markdown",
   "metadata": {},
   "source": [
    "Write a script that prints the last 10 lines of a file  (or the whole file is it is less than 10 lines long)."
   ]
  },
  {
   "cell_type": "code",
   "execution_count": null,
   "metadata": {},
   "outputs": [],
   "source": [
    "f = open('aga.txt', 'r', encoding='utf-8')\n",
    "all_lines = f.readlines()\n",
    "for l in all_lines[-10:]:\n",
    "    print(l, end='')\n",
    "f.close()"
   ]
  },
  {
   "cell_type": "markdown",
   "metadata": {},
   "source": [
    "Two taxi companies propose differents pricing schemes: \"A charges \n",
    "4.80€ plus 1.15€ by km travelled; B 3.20€ plus 1.20€ by km travelled. Write a script that finds which company is the cheapest as a function of the distance to travel.\n"
   ]
  },
  {
   "cell_type": "code",
   "execution_count": 37,
   "metadata": {},
   "outputs": [
    {
     "name": "stdout",
     "output_type": "stream",
     "text": [
      "1 km -> Take B!\n",
      "2 km -> Take B!\n",
      "3 km -> Take B!\n",
      "4 km -> Take B!\n",
      "5 km -> Take B!\n",
      "6 km -> Take B!\n",
      "7 km -> Take B!\n",
      "8 km -> Take B!\n",
      "9 km -> Take B!\n",
      "10 km -> Take B!\n",
      "11 km -> Take B!\n",
      "12 km -> Take B!\n",
      "13 km -> Take B!\n",
      "14 km -> Take B!\n",
      "15 km -> Take B!\n",
      "16 km -> Take B!\n",
      "17 km -> Take B!\n",
      "18 km -> Take B!\n",
      "19 km -> Take B!\n",
      "20 km -> Take B!\n",
      "21 km -> Take B!\n",
      "22 km -> Take B!\n",
      "23 km -> Take B!\n",
      "24 km -> Take B!\n",
      "25 km -> Take B!\n",
      "26 km -> Take B!\n",
      "27 km -> Take B!\n",
      "28 km -> Take B!\n",
      "29 km -> Take B!\n",
      "30 km -> Take B!\n",
      "31 km -> Take B!\n",
      "32 km -> Take A!\n",
      "33 km -> Take A!\n",
      "34 km -> Take A!\n",
      "35 km -> Take A!\n",
      "36 km -> Take A!\n",
      "37 km -> Take A!\n",
      "38 km -> Take A!\n",
      "39 km -> Take A!\n",
      "40 km -> Take A!\n",
      "41 km -> Take A!\n",
      "42 km -> Take A!\n",
      "43 km -> Take A!\n",
      "44 km -> Take A!\n",
      "45 km -> Take A!\n",
      "46 km -> Take A!\n",
      "47 km -> Take A!\n",
      "48 km -> Take A!\n",
      "49 km -> Take A!\n"
     ]
    }
   ],
   "source": [
    "def selectAorB(distance):\n",
    "    priceA = 4.8 + 1.15 * distance\n",
    "    priceB = 3.2 + 1.20 * distance\n",
    "    if priceA < priceB:\n",
    "        return 'Take A!'\n",
    "    else:\n",
    "        return 'Take B!'\n",
    "    \n",
    "for d in range(1, 50):\n",
    "    print(f\"{d} km -> \" + selectAorB(d))"
   ]
  },
  {
   "cell_type": "markdown",
   "metadata": {},
   "source": [
    "Computing descriptive statistics from a detection experiment\n",
    "\n",
    "In a signal detection experiment, a faint stimulus (e.g. a faint sound or a\n",
    "faint visual target) is presented or not at each trial and the participant\n",
    "must indicate whether he has perceived it or not. There are four possible outcomes for each trial:\n",
    "\n",
    "   1. A _hit_ is when the participant correctly detects the target.\n",
    "   2. A _miss_ is when the target was there but the participant did not detect it.\n",
    "   3. A _false alarm_ is when the participant reports the presence of the target when it was not actually there.\n",
    "   4. A _correct rejection_ is when the participant correctly reports that the\n",
    "  target was not present.\n",
    "\n",
    "One defines;\n",
    "\n",
    " *  The _hit rate_ , equal to #hits / (#hits + #misses)\n",
    " *  The _False alarm rate_, equal to #false alarms / (#false alarms + # correct rejections)\n",
    "\n",
    "Let us first suppose that the data from a participant is represented as a string. This string represents a series of trials, each trial being\n",
    "represented by two characters indicating the trial type (1=target present,\n",
    "0=target absent) and the participant's response (Y=target perceived, N=No target\n",
    "perceived). For example:\n",
    "\n",
    "    ---\n",
    "    data = \"0Y,0N,1Y,1Y,0N,0N,0Y,1Y,1Y\"\n",
    "    ---\n",
    " \n",
    "Write a function that, given such a string, returns the Hit rate and the  False rate (hint: use the function `split()`)\n"
   ]
  },
  {
   "cell_type": "code",
   "execution_count": 38,
   "metadata": {},
   "outputs": [
    {
     "name": "stdout",
     "output_type": "stream",
     "text": [
      "(1.0, 0.4)\n"
     ]
    }
   ],
   "source": [
    "def hit_fa(data):\n",
    "    hit, miss, cr, fa = 0, 0, 0, 0\n",
    "    trials = data.split(',')\n",
    "    for t in trials:\n",
    "        if t == '1Y':\n",
    "            hit += 1\n",
    "        elif t == '0Y':\n",
    "            fa += 1\n",
    "        elif t == '1N':\n",
    "            miss += 1\n",
    "        elif t =='0N':\n",
    "            cr += 1\n",
    "        else:\n",
    "            print('Wrong coding:' + t)\n",
    "    hit_rate = (hit / (hit + miss))\n",
    "    fa_rate = (fa / (fa + cr))\n",
    "    return (hit_rate, fa_rate)\n",
    "\n",
    "print(hit_fa(\"0Y,0N,1Y,1Y,0N,0N,0Y,1Y,1Y\"))\n",
    "    "
   ]
  },
  {
   "cell_type": "markdown",
   "metadata": {},
   "source": [
    "Now, the results from different participants are stored in different files `subj*.dat` (download the files from https://github.com/chrplr/PCBS/tree/master/exercices2/subjdat.zip`)\n",
    "Write a script that computes the hit rates and false alarms for each subject, andisplays the group averages and standard deviations. "
   ]
  },
  {
   "cell_type": "code",
   "execution_count": 46,
   "metadata": {},
   "outputs": [
    {
     "name": "stdout",
     "output_type": "stream",
     "text": [
      "subj18.dat 0.67, 0.34\n",
      "subj08.dat 0.53, 0.14\n",
      "subj41.dat 0.63, 0.19\n",
      "subj22.dat 0.78, 0.04\n",
      "subj16.dat 0.68, 0.32\n",
      "subj40.dat 0.53, 0.09\n",
      "subj38.dat 0.76, 0.41\n",
      "subj29.dat 0.88, 0.34\n",
      "subj30.dat 0.86, 0.11\n",
      "subj35.dat 0.54, 0.06\n",
      "subj14.dat 0.57, 0.31\n",
      "subj44.dat 0.56, 0.38\n",
      "subj31.dat 0.81, 0.21\n",
      "subj20.dat 0.69, 0.38\n",
      "subj19.dat 0.87, 0.28\n",
      "subj25.dat 0.81, 0.19\n",
      "subj15.dat 0.77, 0.09\n",
      "subj49.dat 0.58, 0.10\n",
      "subj17.dat 0.89, 0.05\n",
      "subj12.dat 0.72, 0.13\n",
      "subj36.dat 0.78, 0.03\n",
      "subj28.dat 0.65, 0.12\n",
      "subj02.dat 0.45, 0.36\n",
      "subj26.dat 0.69, 0.35\n",
      "subj50.dat 0.63, 0.23\n",
      "subj06.dat 0.66, 0.31\n",
      "subj37.dat 0.74, 0.02\n",
      "subj21.dat 0.83, 0.39\n",
      "subj32.dat 0.90, 0.24\n",
      "subj11.dat 0.52, 0.32\n",
      "subj10.dat 0.74, 0.36\n",
      "subj33.dat 0.83, 0.31\n",
      "subj13.dat 0.76, 0.29\n",
      "subj34.dat 0.68, 0.24\n",
      "subj27.dat 0.76, 0.37\n",
      "subj39.dat 0.90, 0.11\n",
      "subj42.dat 0.63, 0.45\n",
      "subj48.dat 0.62, 0.45\n",
      "subj04.dat 0.44, 0.36\n",
      "subj47.dat 0.71, 0.17\n",
      "subj09.dat 0.56, 0.21\n",
      "subj07.dat 0.82, 0.21\n",
      "subj01.dat 0.67, 0.29\n",
      "subj46.dat 0.72, 0.28\n",
      "subj43.dat 0.67, 0.25\n",
      "subj24.dat 0.82, 0.34\n",
      "subj23.dat 0.85, 0.24\n",
      "subj05.dat 0.74, 0.36\n",
      "subj03.dat 0.70, 0.16\n",
      "subj45.dat 0.87, 0.30\n"
     ]
    }
   ],
   "source": [
    "import glob\n",
    "files = glob.glob('subj*.dat')\n",
    "for f in files:\n",
    "    with open(f, 'r') as sub:\n",
    "        print(f, \"%.02f, %.02f\" % hit_fa(sub.read()))"
   ]
  },
  {
   "cell_type": "markdown",
   "metadata": {},
   "source": [
    "Use `matplotlib.pyplot.plot` to display each participant as a dot on a graphics with False alarm rate on the X-axis and Hit Rate on the Y-axis. \n",
    "Read the section on reading comma separated value (`.csv``) files from http://automatetheboringstuff.com/chapter14/\n"
   ]
  },
  {
   "cell_type": "code",
   "execution_count": 65,
   "metadata": {},
   "outputs": [
    {
     "data": {
      "image/png": "[encoded data removed]",
      "text/plain": [
       "<Figure size 432x288 with 1 Axes>"
      ]
     },
     "metadata": {
      "needs_background": "light"
     },
     "output_type": "display_data"
    }
   ],
   "source": [
    "import glob\n",
    "files = glob.glob('subj*.dat')\n",
    "scores = []\n",
    "for f in files:\n",
    "    with open(f, 'r') as sub:\n",
    "        scores.append(hit_fa(sub.read()))\n",
    "\n",
    "import numpy as np\n",
    "import matplotlib.pyplot as plt\n",
    "\n",
    "sc = np.array(scores)\n",
    "plt.scatter(sc[:,1], sc[:,0])\n",
    "plt.ylim(0, 1)\n",
    "plt.xlim(0, 1)\n",
    "plt.show()\n"
   ]
  }
 ],
 "metadata": {
  "anaconda-cloud": {},
  "kernelspec": {
   "display_name": "Python [conda root]",
   "language": "python",
   "name": "conda-root-py"
  },
  "language_info": {
   "codemirror_mode": {
    "name": "ipython",
    "version": 3
   },
   "file_extension": ".py",
   "mimetype": "text/x-python",
   "name": "python",
   "nbconvert_exporter": "python",
   "pygments_lexer": "ipython3",
   "version": "3.6.6"
  }
 },
 "nbformat": 4,
 "nbformat_minor": 2
}
